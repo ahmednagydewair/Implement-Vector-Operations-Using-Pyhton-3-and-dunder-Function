{
 "cells": [
  {
   "cell_type": "code",
   "execution_count": 1,
   "metadata": {},
   "outputs": [],
   "source": [
    "class vector:\n",
    "    def __init__(self , x,y):\n",
    "        self.x = x\n",
    "        self.y = y\n",
    "    \n",
    "    def __repr__(self):\n",
    "        return f'Vector (x={self.x} , y={self.y})'"
   ]
  },
  {
   "cell_type": "code",
   "execution_count": 3,
   "metadata": {},
   "outputs": [
    {
     "name": "stdout",
     "output_type": "stream",
     "text": [
      "2124789475080 2124789475592\n"
     ]
    }
   ],
   "source": [
    "v1 = vector(0,0)\n",
    "v2 = vector(0,0)\n",
    "print (id(v1) , id(v2)) "
   ]
  },
  {
   "cell_type": "code",
   "execution_count": 4,
   "metadata": {},
   "outputs": [
    {
     "data": {
      "text/plain": [
       "False"
      ]
     },
     "execution_count": 4,
     "metadata": {},
     "output_type": "execute_result"
    }
   ],
   "source": [
    "v1 == v2"
   ]
  },
  {
   "cell_type": "code",
   "execution_count": 9,
   "metadata": {},
   "outputs": [],
   "source": [
    "class vector:\n",
    "    def __init__(self , x,y):\n",
    "        self.x = x\n",
    "        self.y = y\n",
    "    \n",
    "    def __repr__(self):\n",
    "        return f'Vector (x={self.x} , y={self.y})'\n",
    "    \n",
    "    def __eq__ (self , other):\n",
    "        if isinstance(other , vector):\n",
    "            return self.x == other.x and self.y==other.y\n",
    "        return NotImplemented"
   ]
  },
  {
   "cell_type": "code",
   "execution_count": 12,
   "metadata": {},
   "outputs": [
    {
     "data": {
      "text/plain": [
       "(True, False)"
      ]
     },
     "execution_count": 12,
     "metadata": {},
     "output_type": "execute_result"
    }
   ],
   "source": [
    "v1 = vector(1,1)\n",
    "v2 = vector(1,1)\n",
    "v3 = vector(10,10)\n",
    "v1 == v2 , v1 is v2"
   ]
  },
  {
   "cell_type": "code",
   "execution_count": 13,
   "metadata": {},
   "outputs": [
    {
     "data": {
      "text/plain": [
       "False"
      ]
     },
     "execution_count": 13,
     "metadata": {},
     "output_type": "execute_result"
    }
   ],
   "source": [
    "v1 == v3"
   ]
  },
  {
   "cell_type": "code",
   "execution_count": 16,
   "metadata": {},
   "outputs": [],
   "source": [
    "#let's make comparision with other type (tuple , vector )\n",
    "class vector:\n",
    "    def __init__(self , x,y):\n",
    "        self.x = x\n",
    "        self.y = y\n",
    "    \n",
    "    def __repr__(self):\n",
    "        return f'Vector (x={self.x} , y={self.y})'\n",
    "    \n",
    "    def __eq__ (self , other):\n",
    "        print ('__eq__ called')\n",
    "        if isinstance(other , tuple):\n",
    "            other  = vector(*other)\n",
    "        if isinstance(other , vector):\n",
    "            return self.x == other.x and self.y==other.y\n",
    "        return NotImplemented"
   ]
  },
  {
   "cell_type": "code",
   "execution_count": 17,
   "metadata": {},
   "outputs": [
    {
     "name": "stdout",
     "output_type": "stream",
     "text": [
      "__eq__ called\n"
     ]
    },
    {
     "data": {
      "text/plain": [
       "True"
      ]
     },
     "execution_count": 17,
     "metadata": {},
     "output_type": "execute_result"
    }
   ],
   "source": [
    "v1 = vector (10,11)\n",
    "v1 == (10,11) # here vector with tuple"
   ]
  },
  {
   "cell_type": "code",
   "execution_count": 19,
   "metadata": {},
   "outputs": [
    {
     "name": "stdout",
     "output_type": "stream",
     "text": [
      "__eq__ called\n"
     ]
    },
    {
     "data": {
      "text/plain": [
       "True"
      ]
     },
     "execution_count": 19,
     "metadata": {},
     "output_type": "execute_result"
    }
   ],
   "source": [
    "(10,11) == v1 # python can reflect the paramters and can test it "
   ]
  },
  {
   "cell_type": "code",
   "execution_count": 20,
   "metadata": {},
   "outputs": [],
   "source": [
    "#let's impliment that vector is less than another vector , if the sqrt of one less that the other"
   ]
  },
  {
   "cell_type": "code",
   "execution_count": 25,
   "metadata": {},
   "outputs": [],
   "source": [
    "from math import sqrt\n",
    "class vector:\n",
    "    def __init__(self , x,y):\n",
    "        self.x = x\n",
    "        self.y = y\n",
    "    \n",
    "    def __repr__(self):\n",
    "        return f'Vector (x={self.x} , y={self.y})'\n",
    "    \n",
    "    def __eq__ (self , other):\n",
    "        print ('__eq__ called')\n",
    "        if isinstance(other , tuple):\n",
    "            other  = vector(*other)\n",
    "        if isinstance(other , vector):\n",
    "            return self.x == other.x and self.y==other.y\n",
    "        return NotImplemented\n",
    "    \n",
    "    def __abs__ (self):\n",
    "        return sqrt(self.x**2 + self.y**2)\n",
    "    \n",
    "    def __lt__(self, other):\n",
    "        print ('__lt__ is called')\n",
    "        if isinstance(other , tuple):\n",
    "            other  = vector(*other)\n",
    "        if isinstance(other , vector):\n",
    "            return abs(self) < abs(other)"
   ]
  },
  {
   "cell_type": "code",
   "execution_count": 26,
   "metadata": {},
   "outputs": [
    {
     "name": "stdout",
     "output_type": "stream",
     "text": [
      "__lt__ is called\n",
      "__lt__ is called\n"
     ]
    },
    {
     "data": {
      "text/plain": [
       "(True, False)"
      ]
     },
     "execution_count": 26,
     "metadata": {},
     "output_type": "execute_result"
    }
   ],
   "source": [
    "v1 = vector(0,0)\n",
    "v2 = vector(1,1)\n",
    "v1 < v2 , v2 < v1"
   ]
  },
  {
   "cell_type": "code",
   "execution_count": 28,
   "metadata": {},
   "outputs": [
    {
     "name": "stdout",
     "output_type": "stream",
     "text": [
      "__lt__ is called\n",
      "__lt__ is called\n"
     ]
    },
    {
     "data": {
      "text/plain": [
       "(False, True)"
      ]
     },
     "execution_count": 28,
     "metadata": {},
     "output_type": "execute_result"
    }
   ],
   "source": [
    "v1 > v2 , v2 > v1 # it's not implemented , but python can flib the operator"
   ]
  },
  {
   "cell_type": "code",
   "execution_count": 32,
   "metadata": {},
   "outputs": [
    {
     "name": "stdout",
     "output_type": "stream",
     "text": [
      "__lt__ is called\n"
     ]
    },
    {
     "data": {
      "text/plain": [
       "True"
      ]
     },
     "execution_count": 32,
     "metadata": {},
     "output_type": "execute_result"
    }
   ],
   "source": [
    "v1 <(1,1)"
   ]
  },
  {
   "cell_type": "code",
   "execution_count": 39,
   "metadata": {},
   "outputs": [],
   "source": [
    "# implement <= 'less than or equal'\n",
    "from math import sqrt\n",
    "class vector:\n",
    "    def __init__(self , x,y):\n",
    "        self.x = x\n",
    "        self.y = y\n",
    "    \n",
    "    def __repr__(self):\n",
    "        return f'Vector (x={self.x} , y={self.y})'\n",
    "    \n",
    "    def __eq__ (self , other):\n",
    "        print ('__eq__ called')\n",
    "        if isinstance(other , tuple):\n",
    "            other  = vector(*other)\n",
    "        if isinstance(other , vector):\n",
    "            return self.x == other.x and self.y==other.y\n",
    "        return NotImplemented\n",
    "    \n",
    "    def __abs__ (self):\n",
    "        return sqrt(self.x**2 + self.y**2)\n",
    "    \n",
    "    def __lt__(self, other):\n",
    "        print ('__lt__ is called')\n",
    "        if isinstance(other , tuple):\n",
    "            other  = vector(*other)\n",
    "        if isinstance(other , vector):\n",
    "            return abs(self) < abs(other)\n",
    "    \n",
    "    def __le__(self , other):\n",
    "        # we will call the above __eq__ and __lt__ methods\n",
    "        return self == other or self < other"
   ]
  },
  {
   "cell_type": "code",
   "execution_count": 40,
   "metadata": {},
   "outputs": [
    {
     "name": "stdout",
     "output_type": "stream",
     "text": [
      "__eq__ called\n"
     ]
    },
    {
     "data": {
      "text/plain": [
       "True"
      ]
     },
     "execution_count": 40,
     "metadata": {},
     "output_type": "execute_result"
    }
   ],
   "source": [
    "v1 = vector(0,0)\n",
    "v2 = vector(0,0)\n",
    "v3 = vector(1,1)\n",
    "v1 <= v2"
   ]
  },
  {
   "cell_type": "code",
   "execution_count": 41,
   "metadata": {},
   "outputs": [
    {
     "name": "stdout",
     "output_type": "stream",
     "text": [
      "__eq__ called\n",
      "__lt__ is called\n"
     ]
    },
    {
     "data": {
      "text/plain": [
       "True"
      ]
     },
     "execution_count": 41,
     "metadata": {},
     "output_type": "execute_result"
    }
   ],
   "source": [
    "v1 <= v3"
   ]
  },
  {
   "cell_type": "code",
   "execution_count": 43,
   "metadata": {},
   "outputs": [
    {
     "name": "stdout",
     "output_type": "stream",
     "text": [
      "__eq__ called\n",
      "__lt__ is called\n"
     ]
    },
    {
     "data": {
      "text/plain": [
       "False"
      ]
     },
     "execution_count": 43,
     "metadata": {},
     "output_type": "execute_result"
    }
   ],
   "source": [
    "v1 >= v3 # it's called by flib the operator"
   ]
  },
  {
   "cell_type": "code",
   "execution_count": null,
   "metadata": {},
   "outputs": [],
   "source": []
  }
 ],
 "metadata": {
  "kernelspec": {
   "display_name": "Python 3",
   "language": "python",
   "name": "python3"
  },
  "language_info": {
   "codemirror_mode": {
    "name": "ipython",
    "version": 3
   },
   "file_extension": ".py",
   "mimetype": "text/x-python",
   "name": "python",
   "nbconvert_exporter": "python",
   "pygments_lexer": "ipython3",
   "version": "3.7.4"
  }
 },
 "nbformat": 4,
 "nbformat_minor": 2
}
