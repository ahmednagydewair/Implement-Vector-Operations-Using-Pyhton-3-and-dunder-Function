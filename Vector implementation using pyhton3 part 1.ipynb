{
 "cells": [
  {
   "cell_type": "code",
   "execution_count": 2,
   "metadata": {},
   "outputs": [],
   "source": [
    "from numbers import Real # to test if instances of type real or not "
   ]
  },
  {
   "cell_type": "code",
   "execution_count": 9,
   "metadata": {},
   "outputs": [],
   "source": [
    "class vector:\n",
    "    def __init__(self, *components):\n",
    "        if len(components)<1:\n",
    "            raise ValueError ('canot create empty vector')\n",
    "        \n",
    "        for component in components:\n",
    "            if not isinstance(component , Real):\n",
    "                raise ValueError(f'vector components must be all real numbers ,{component} is invalid')\n",
    "        self._components = tuple (components) # to ensure that the data is tuple\n",
    "    \n",
    "    def __len__(self):\n",
    "        return len(self._components)\n",
    "    \n",
    "    @property\n",
    "    def components(self):\n",
    "        return self._components\n",
    "    \n",
    "    def __repr__(self):\n",
    "        return f'vector{self._components}'\n",
    "    \n",
    "    "
   ]
  },
  {
   "cell_type": "code",
   "execution_count": 10,
   "metadata": {},
   "outputs": [],
   "source": [
    "v1 = vector(1,2)\n",
    "v2 = vector(10,20,30,40)"
   ]
  },
  {
   "cell_type": "code",
   "execution_count": 11,
   "metadata": {},
   "outputs": [
    {
     "data": {
      "text/plain": [
       "(2, 4)"
      ]
     },
     "execution_count": 11,
     "metadata": {},
     "output_type": "execute_result"
    }
   ],
   "source": [
    "len(v1), len(v2)"
   ]
  },
  {
   "cell_type": "code",
   "execution_count": 12,
   "metadata": {},
   "outputs": [
    {
     "data": {
      "text/plain": [
       "vector(1, 2)"
      ]
     },
     "execution_count": 12,
     "metadata": {},
     "output_type": "execute_result"
    }
   ],
   "source": [
    "v1"
   ]
  },
  {
   "cell_type": "code",
   "execution_count": 13,
   "metadata": {},
   "outputs": [
    {
     "data": {
      "text/plain": [
       "vector(10, 20, 30, 40)"
      ]
     },
     "execution_count": 13,
     "metadata": {},
     "output_type": "execute_result"
    }
   ],
   "source": [
    "v2"
   ]
  },
  {
   "cell_type": "code",
   "execution_count": 15,
   "metadata": {},
   "outputs": [
    {
     "data": {
      "text/plain": [
       "'vector(1, 2)'"
      ]
     },
     "execution_count": 15,
     "metadata": {},
     "output_type": "execute_result"
    }
   ],
   "source": [
    "str (v1) # return the __repr__ , unless __str__ method didn't implmeneted "
   ]
  },
  {
   "cell_type": "code",
   "execution_count": 42,
   "metadata": {},
   "outputs": [],
   "source": [
    "class vectorDimensionMismatch(TypeError):\n",
    "    pass\n",
    "class vector:\n",
    "    def __init__(self, *components):\n",
    "        if len(components)<1:\n",
    "            raise ValueError ('canot create empty vector')\n",
    "        \n",
    "        for component in components:\n",
    "            if not isinstance(component , Real):\n",
    "                raise ValueError(f'vector components must be all real numbers ,{component} is invalid')\n",
    "        self._components = tuple (components) # to ensure that the data is tuple\n",
    "    \n",
    "    def __len__(self):\n",
    "        return len(self._components)\n",
    "    \n",
    "    @property\n",
    "    def components(self):\n",
    "        return self._components\n",
    "    \n",
    "    def __repr__(self):\n",
    "        return f'vector{self.components}' # here we are accessing the property\n",
    "   \n",
    "    def validate_type_length(self, v):\n",
    "        return isinstance(v,vector) and len(self) == len(v)\n",
    "    \n",
    "    def __add__(self, other):# other must be vector type and same len (self)\n",
    "        if not self.validate_type_length(other):\n",
    "            raise vectorDimensionMismatch('vectors must be in same dimension')\n",
    "            #return NotImplemented # not valid\n",
    "        components = (x+y for x,y in zip(self.components , other.components))\n",
    "        return vector(*components)\n",
    "    \n",
    "    def __sub__(self, other):# other must be vector type and same len (self)\n",
    "        if not self.validate_type_length(other):\n",
    "            raise vectorDimensionMismatch('vectors must be in same dimension')\n",
    "           # return NotImplemented # not valid\n",
    "        components = (x-y for x,y in zip(self.components , other.components))\n",
    "        return vector(*components)\n",
    "        "
   ]
  },
  {
   "cell_type": "code",
   "execution_count": 43,
   "metadata": {},
   "outputs": [],
   "source": [
    "v1 = vector (1,2)\n",
    "v2 = vector (10,10)\n",
    "v3= vector (1,2, 3,4)"
   ]
  },
  {
   "cell_type": "code",
   "execution_count": 44,
   "metadata": {},
   "outputs": [
    {
     "data": {
      "text/plain": [
       "vector(11, 12)"
      ]
     },
     "execution_count": 44,
     "metadata": {},
     "output_type": "execute_result"
    }
   ],
   "source": [
    "v1+v2"
   ]
  },
  {
   "cell_type": "code",
   "execution_count": 45,
   "metadata": {},
   "outputs": [
    {
     "data": {
      "text/plain": [
       "vector(11, 12)"
      ]
     },
     "execution_count": 45,
     "metadata": {},
     "output_type": "execute_result"
    }
   ],
   "source": [
    "v2+v1"
   ]
  },
  {
   "cell_type": "code",
   "execution_count": 46,
   "metadata": {},
   "outputs": [
    {
     "ename": "vectorDimensionMismatch",
     "evalue": "vectors must be in same dimension",
     "output_type": "error",
     "traceback": [
      "\u001b[1;31m---------------------------------------------------------------------------\u001b[0m",
      "\u001b[1;31mvectorDimensionMismatch\u001b[0m                   Traceback (most recent call last)",
      "\u001b[1;32m<ipython-input-46-f04ae0854aa5>\u001b[0m in \u001b[0;36m<module>\u001b[1;34m\u001b[0m\n\u001b[1;32m----> 1\u001b[1;33m \u001b[0mv1\u001b[0m\u001b[1;33m+\u001b[0m\u001b[0mv3\u001b[0m \u001b[1;31m# to make the error more meaning\u001b[0m\u001b[1;33m\u001b[0m\u001b[1;33m\u001b[0m\u001b[0m\n\u001b[0m",
      "\u001b[1;32m<ipython-input-42-9aaa602bde37>\u001b[0m in \u001b[0;36m__add__\u001b[1;34m(self, other)\u001b[0m\n\u001b[0;32m     26\u001b[0m     \u001b[1;32mdef\u001b[0m \u001b[0m__add__\u001b[0m\u001b[1;33m(\u001b[0m\u001b[0mself\u001b[0m\u001b[1;33m,\u001b[0m \u001b[0mother\u001b[0m\u001b[1;33m)\u001b[0m\u001b[1;33m:\u001b[0m\u001b[1;31m# other must be vector type and same len (self)\u001b[0m\u001b[1;33m\u001b[0m\u001b[1;33m\u001b[0m\u001b[0m\n\u001b[0;32m     27\u001b[0m         \u001b[1;32mif\u001b[0m \u001b[1;32mnot\u001b[0m \u001b[0mself\u001b[0m\u001b[1;33m.\u001b[0m\u001b[0mvalidate_type_length\u001b[0m\u001b[1;33m(\u001b[0m\u001b[0mother\u001b[0m\u001b[1;33m)\u001b[0m\u001b[1;33m:\u001b[0m\u001b[1;33m\u001b[0m\u001b[1;33m\u001b[0m\u001b[0m\n\u001b[1;32m---> 28\u001b[1;33m             \u001b[1;32mraise\u001b[0m \u001b[0mvectorDimensionMismatch\u001b[0m\u001b[1;33m(\u001b[0m\u001b[1;34m'vectors must be in same dimension'\u001b[0m\u001b[1;33m)\u001b[0m\u001b[1;33m\u001b[0m\u001b[1;33m\u001b[0m\u001b[0m\n\u001b[0m\u001b[0;32m     29\u001b[0m             \u001b[1;31m#return NotImplemented # not valid\u001b[0m\u001b[1;33m\u001b[0m\u001b[1;33m\u001b[0m\u001b[1;33m\u001b[0m\u001b[0m\n\u001b[0;32m     30\u001b[0m         \u001b[0mcomponents\u001b[0m \u001b[1;33m=\u001b[0m \u001b[1;33m(\u001b[0m\u001b[0mx\u001b[0m\u001b[1;33m+\u001b[0m\u001b[0my\u001b[0m \u001b[1;32mfor\u001b[0m \u001b[0mx\u001b[0m\u001b[1;33m,\u001b[0m\u001b[0my\u001b[0m \u001b[1;32min\u001b[0m \u001b[0mzip\u001b[0m\u001b[1;33m(\u001b[0m\u001b[0mself\u001b[0m\u001b[1;33m.\u001b[0m\u001b[0mcomponents\u001b[0m \u001b[1;33m,\u001b[0m \u001b[0mother\u001b[0m\u001b[1;33m.\u001b[0m\u001b[0mcomponents\u001b[0m\u001b[1;33m)\u001b[0m\u001b[1;33m)\u001b[0m\u001b[1;33m\u001b[0m\u001b[1;33m\u001b[0m\u001b[0m\n",
      "\u001b[1;31mvectorDimensionMismatch\u001b[0m: vectors must be in same dimension"
     ]
    }
   ],
   "source": [
    "v1+v3 # to make the error more meaning"
   ]
  },
  {
   "cell_type": "code",
   "execution_count": 47,
   "metadata": {},
   "outputs": [
    {
     "name": "stdout",
     "output_type": "stream",
     "text": [
      "vectors must be in same dimension\n"
     ]
    }
   ],
   "source": [
    "try:\n",
    "    v1+v3\n",
    "except vectorDimensionMismatch as ex: # make it inheited from TypeError to catch errors\n",
    "    print (ex)"
   ]
  },
  {
   "cell_type": "code",
   "execution_count": 48,
   "metadata": {},
   "outputs": [
    {
     "name": "stdout",
     "output_type": "stream",
     "text": [
      "vectors must be in same dimension\n"
     ]
    }
   ],
   "source": [
    "try:\n",
    "    v1+v3\n",
    "except TypeError as ex:\n",
    "    print (ex)"
   ]
  },
  {
   "cell_type": "code",
   "execution_count": 49,
   "metadata": {},
   "outputs": [
    {
     "ename": "vectorDimensionMismatch",
     "evalue": "vectors must be in same dimension",
     "output_type": "error",
     "traceback": [
      "\u001b[1;31m---------------------------------------------------------------------------\u001b[0m",
      "\u001b[1;31mvectorDimensionMismatch\u001b[0m                   Traceback (most recent call last)",
      "\u001b[1;32m<ipython-input-49-0502de084b90>\u001b[0m in \u001b[0;36m<module>\u001b[1;34m\u001b[0m\n\u001b[1;32m----> 1\u001b[1;33m \u001b[0mv1\u001b[0m\u001b[1;33m+\u001b[0m\u001b[1;36m100\u001b[0m\u001b[1;33m\u001b[0m\u001b[1;33m\u001b[0m\u001b[0m\n\u001b[0m",
      "\u001b[1;32m<ipython-input-42-9aaa602bde37>\u001b[0m in \u001b[0;36m__add__\u001b[1;34m(self, other)\u001b[0m\n\u001b[0;32m     26\u001b[0m     \u001b[1;32mdef\u001b[0m \u001b[0m__add__\u001b[0m\u001b[1;33m(\u001b[0m\u001b[0mself\u001b[0m\u001b[1;33m,\u001b[0m \u001b[0mother\u001b[0m\u001b[1;33m)\u001b[0m\u001b[1;33m:\u001b[0m\u001b[1;31m# other must be vector type and same len (self)\u001b[0m\u001b[1;33m\u001b[0m\u001b[1;33m\u001b[0m\u001b[0m\n\u001b[0;32m     27\u001b[0m         \u001b[1;32mif\u001b[0m \u001b[1;32mnot\u001b[0m \u001b[0mself\u001b[0m\u001b[1;33m.\u001b[0m\u001b[0mvalidate_type_length\u001b[0m\u001b[1;33m(\u001b[0m\u001b[0mother\u001b[0m\u001b[1;33m)\u001b[0m\u001b[1;33m:\u001b[0m\u001b[1;33m\u001b[0m\u001b[1;33m\u001b[0m\u001b[0m\n\u001b[1;32m---> 28\u001b[1;33m             \u001b[1;32mraise\u001b[0m \u001b[0mvectorDimensionMismatch\u001b[0m\u001b[1;33m(\u001b[0m\u001b[1;34m'vectors must be in same dimension'\u001b[0m\u001b[1;33m)\u001b[0m\u001b[1;33m\u001b[0m\u001b[1;33m\u001b[0m\u001b[0m\n\u001b[0m\u001b[0;32m     29\u001b[0m             \u001b[1;31m#return NotImplemented # not valid\u001b[0m\u001b[1;33m\u001b[0m\u001b[1;33m\u001b[0m\u001b[1;33m\u001b[0m\u001b[0m\n\u001b[0;32m     30\u001b[0m         \u001b[0mcomponents\u001b[0m \u001b[1;33m=\u001b[0m \u001b[1;33m(\u001b[0m\u001b[0mx\u001b[0m\u001b[1;33m+\u001b[0m\u001b[0my\u001b[0m \u001b[1;32mfor\u001b[0m \u001b[0mx\u001b[0m\u001b[1;33m,\u001b[0m\u001b[0my\u001b[0m \u001b[1;32min\u001b[0m \u001b[0mzip\u001b[0m\u001b[1;33m(\u001b[0m\u001b[0mself\u001b[0m\u001b[1;33m.\u001b[0m\u001b[0mcomponents\u001b[0m \u001b[1;33m,\u001b[0m \u001b[0mother\u001b[0m\u001b[1;33m.\u001b[0m\u001b[0mcomponents\u001b[0m\u001b[1;33m)\u001b[0m\u001b[1;33m)\u001b[0m\u001b[1;33m\u001b[0m\u001b[1;33m\u001b[0m\u001b[0m\n",
      "\u001b[1;31mvectorDimensionMismatch\u001b[0m: vectors must be in same dimension"
     ]
    }
   ],
   "source": [
    "v1*100 # let's impement scalar vactor "
   ]
  },
  {
   "cell_type": "code",
   "execution_count": 53,
   "metadata": {},
   "outputs": [],
   "source": [
    "class vectorDimensionMismatch(TypeError):\n",
    "    pass\n",
    "class vector:\n",
    "    def __init__(self, *components):\n",
    "        if len(components)<1:\n",
    "            raise ValueError ('canot create empty vector')\n",
    "        \n",
    "        for component in components:\n",
    "            if not isinstance(component , Real):\n",
    "                raise ValueError(f'vector components must be all real numbers ,{component} is invalid')\n",
    "        self._components = tuple (components) # to ensure that the data is tuple\n",
    "    \n",
    "    def __len__(self):\n",
    "        return len(self._components)\n",
    "    \n",
    "    @property\n",
    "    def components(self):\n",
    "        return self._components\n",
    "    \n",
    "    def __repr__(self):\n",
    "        return f'vector{self.components}' # here we are accessing the property\n",
    "   \n",
    "    def validate_type_length(self, v):\n",
    "        return isinstance(v,vector) and len(self) == len(v)\n",
    "    \n",
    "    def __add__(self, other):# other must be vector type and same len (self)\n",
    "        if not self.validate_type_length(other):\n",
    "            raise vectorDimensionMismatch('vectors must be in same dimension')\n",
    "            #return NotImplemented # not valid\n",
    "        components = (x+y for x,y in zip(self.components , other.components))\n",
    "        return vector(*components)\n",
    "    \n",
    "    def __sub__(self, other):# other must be vector type and same len (self)\n",
    "        if not self.validate_type_length(other):\n",
    "            raise vectorDimensionMismatch('vectors must be in same dimension')\n",
    "           # return NotImplemented # not valid\n",
    "        components = (x-y for x,y in zip(self.components , other.components))\n",
    "        return vector(*components)\n",
    "    \n",
    "    def __mul__(self, other):\n",
    "        print ('__mul__ called ...')\n",
    "        if not isinstance(other, Real):\n",
    "            NotImplemented\n",
    "        components=(other*component for component in self.components)\n",
    "        return vector(*components)\n",
    "        "
   ]
  },
  {
   "cell_type": "code",
   "execution_count": 54,
   "metadata": {},
   "outputs": [
    {
     "name": "stdout",
     "output_type": "stream",
     "text": [
      "__mul__ called ...\n"
     ]
    },
    {
     "data": {
      "text/plain": [
       "vector(100, 400)"
      ]
     },
     "execution_count": 54,
     "metadata": {},
     "output_type": "execute_result"
    }
   ],
   "source": [
    "v1 = vector(1,4)\n",
    "v1*100"
   ]
  },
  {
   "cell_type": "code",
   "execution_count": 55,
   "metadata": {},
   "outputs": [
    {
     "name": "stdout",
     "output_type": "stream",
     "text": [
      "__mul__ called ...\n"
     ]
    },
    {
     "data": {
      "text/plain": [
       "vector(20, 80)"
      ]
     },
     "execution_count": 55,
     "metadata": {},
     "output_type": "execute_result"
    }
   ],
   "source": [
    "v1.__mul__(20)"
   ]
  },
  {
   "cell_type": "code",
   "execution_count": 57,
   "metadata": {},
   "outputs": [
    {
     "ename": "TypeError",
     "evalue": "unsupported operand type(s) for *: 'int' and 'vector'",
     "output_type": "error",
     "traceback": [
      "\u001b[1;31m---------------------------------------------------------------------------\u001b[0m",
      "\u001b[1;31mTypeError\u001b[0m                                 Traceback (most recent call last)",
      "\u001b[1;32m<ipython-input-57-fc52c5862712>\u001b[0m in \u001b[0;36m<module>\u001b[1;34m\u001b[0m\n\u001b[1;32m----> 1\u001b[1;33m \u001b[1;36m10\u001b[0m\u001b[1;33m*\u001b[0m\u001b[0mv1\u001b[0m \u001b[1;31m# python make it 10.__mul__(v1), to make this available , must impelemnet __rmul__\\\u001b[0m\u001b[1;33m\u001b[0m\u001b[1;33m\u001b[0m\u001b[0m\n\u001b[0m\u001b[0;32m      2\u001b[0m \u001b[1;31m# to help python flib the paramters\u001b[0m\u001b[1;33m\u001b[0m\u001b[1;33m\u001b[0m\u001b[1;33m\u001b[0m\u001b[0m\n",
      "\u001b[1;31mTypeError\u001b[0m: unsupported operand type(s) for *: 'int' and 'vector'"
     ]
    }
   ],
   "source": [
    "10*v1 # python make it 10.__mul__(v1), to make this available , must impelemnet __rmul__\\\n",
    "# to help python flib the paramters"
   ]
  },
  {
   "cell_type": "code",
   "execution_count": 61,
   "metadata": {},
   "outputs": [],
   "source": [
    "class vectorDimensionMismatch(TypeError):\n",
    "    pass\n",
    "class vector:\n",
    "    def __init__(self, *components):\n",
    "        if len(components)<1:\n",
    "            raise ValueError ('canot create empty vector')\n",
    "        \n",
    "        for component in components:\n",
    "            if not isinstance(component , Real):\n",
    "                raise ValueError(f'vector components must be all real numbers ,{component} is invalid')\n",
    "        self._components = tuple (components) # to ensure that the data is tuple\n",
    "    \n",
    "    def __len__(self):\n",
    "        return len(self._components)\n",
    "    \n",
    "    @property\n",
    "    def components(self):\n",
    "        return self._components\n",
    "    \n",
    "    def __repr__(self):\n",
    "        return f'vector{self.components}' # here we are accessing the property\n",
    "   \n",
    "    def validate_type_length(self, v):\n",
    "        return isinstance(v,vector) and len(self) == len(v)\n",
    "    \n",
    "    def __add__(self, other):# other must be vector type and same len (self)\n",
    "        if not self.validate_type_length(other):\n",
    "            raise vectorDimensionMismatch('vectors must be in same dimension')\n",
    "            #return NotImplemented # not valid\n",
    "        components = (x+y for x,y in zip(self.components , other.components))\n",
    "        return vector(*components)\n",
    "    \n",
    "    def __sub__(self, other):# other must be vector type and same len (self)\n",
    "        if not self.validate_type_length(other):\n",
    "            raise vectorDimensionMismatch('vectors must be in same dimension')\n",
    "           # return NotImplemented # not valid\n",
    "        components = (x-y for x,y in zip(self.components , other.components))\n",
    "        return vector(*components)\n",
    "    \n",
    "    def __mul__(self, other):\n",
    "        print ('__mul__ called ...')\n",
    "        if not isinstance(other, Real):\n",
    "            NotImplemented\n",
    "        components=(other*component for component in self.components)\n",
    "        return vector(*components)\n",
    "    \n",
    "    def __rmul__(self, other):# we need only to apply the above function with the right operands\n",
    "        print ('__rmul__ called ..')\n",
    "        return self*other"
   ]
  },
  {
   "cell_type": "code",
   "execution_count": 62,
   "metadata": {},
   "outputs": [
    {
     "name": "stdout",
     "output_type": "stream",
     "text": [
      "__mul__ called ...\n"
     ]
    },
    {
     "data": {
      "text/plain": [
       "vector(10, 20)"
      ]
     },
     "execution_count": 62,
     "metadata": {},
     "output_type": "execute_result"
    }
   ],
   "source": [
    "v1 = vector (1,2)\n",
    "v1*10"
   ]
  },
  {
   "cell_type": "code",
   "execution_count": 63,
   "metadata": {},
   "outputs": [
    {
     "name": "stdout",
     "output_type": "stream",
     "text": [
      "__rmul__ called ..\n",
      "__mul__ called ...\n"
     ]
    },
    {
     "data": {
      "text/plain": [
       "vector(10, 20)"
      ]
     },
     "execution_count": 63,
     "metadata": {},
     "output_type": "execute_result"
    }
   ],
   "source": [
    "10*v1"
   ]
  },
  {
   "cell_type": "code",
   "execution_count": 64,
   "metadata": {},
   "outputs": [],
   "source": [
    "# let's implement dot product of 2 vectors v1*v2\n",
    "# we have __mul__ function , we need to edit it to work in both (other is real or vector)"
   ]
  },
  {
   "cell_type": "code",
   "execution_count": 71,
   "metadata": {},
   "outputs": [],
   "source": [
    "class vectorDimensionMismatch(TypeError):\n",
    "    pass\n",
    "class vector:\n",
    "    def __init__(self, *components):\n",
    "        if len(components)<1:\n",
    "            raise ValueError ('canot create empty vector')\n",
    "        \n",
    "        for component in components:\n",
    "            if not isinstance(component , Real):\n",
    "                raise ValueError(f'vector components must be all real numbers ,{component} is invalid')\n",
    "        self._components = tuple (components) # to ensure that the data is tuple\n",
    "    \n",
    "    def __len__(self):\n",
    "        return len(self._components)\n",
    "    \n",
    "    @property\n",
    "    def components(self):\n",
    "        return self._components\n",
    "    \n",
    "    def __repr__(self):\n",
    "        return f'vector{self.components}' # here we are accessing the property\n",
    "   \n",
    "    def validate_type_length(self, v):\n",
    "        return isinstance(v,vector) and len(self) == len(v)\n",
    "    \n",
    "    def __add__(self, other):# other must be vector type and same len (self)\n",
    "        if not self.validate_type_length(other):\n",
    "            #raise vectorDimensionMismatch('vectors must be in same dimension')\n",
    "            return NotImplemented # not valid\n",
    "        components = (x+y for x,y in zip(self.components , other.components))\n",
    "        return vector(*components)\n",
    "    \n",
    "    def __sub__(self, other):# other must be vector type and same len (self)\n",
    "        if not self.validate_type_length(other):\n",
    "            #raise vectorDimensionMismatch('vectors must be in same dimension')\n",
    "            return NotImplemented # not valid\n",
    "        components = (x-y for x,y in zip(self.components , other.components))\n",
    "        return vector(*components)\n",
    "    \n",
    "    def __mul__(self, other):\n",
    "        print ('__mul__ called ...')\n",
    "        if isinstance(other, Real):\n",
    "            #scalar product\n",
    "            components=(other*component for component in self.components)\n",
    "            return vector(*components)\n",
    "        if self.validate_type_length(other):\n",
    "            #dot product\n",
    "            components = (x*y for x,y in zip(self.components , other.components))\n",
    "            return sum(components)\n",
    "        return NotImplemented\n",
    "    \n",
    "    def __rmul__(self, other):# we need only to apply the above function with the right operands\n",
    "        print ('__rmul__ called ..')\n",
    "        return self*other"
   ]
  },
  {
   "cell_type": "code",
   "execution_count": 72,
   "metadata": {},
   "outputs": [
    {
     "name": "stdout",
     "output_type": "stream",
     "text": [
      "__mul__ called ...\n"
     ]
    },
    {
     "data": {
      "text/plain": [
       "vector(10, 20)"
      ]
     },
     "execution_count": 72,
     "metadata": {},
     "output_type": "execute_result"
    }
   ],
   "source": [
    "v1 = vector (1,2)\n",
    "v2 = vector (10,20)\n",
    "v1*10"
   ]
  },
  {
   "cell_type": "code",
   "execution_count": 73,
   "metadata": {},
   "outputs": [
    {
     "name": "stdout",
     "output_type": "stream",
     "text": [
      "__mul__ called ...\n"
     ]
    },
    {
     "data": {
      "text/plain": [
       "50"
      ]
     },
     "execution_count": 73,
     "metadata": {},
     "output_type": "execute_result"
    }
   ],
   "source": [
    "v1*v2"
   ]
  },
  {
   "cell_type": "markdown",
   "metadata": {},
   "source": [
    "## In-Place Operators"
   ]
  },
  {
   "cell_type": "code",
   "execution_count": 75,
   "metadata": {},
   "outputs": [],
   "source": [
    "# it mutate the objects \n",
    "l =[1,2]"
   ]
  },
  {
   "cell_type": "code",
   "execution_count": 81,
   "metadata": {},
   "outputs": [
    {
     "data": {
      "text/plain": [
       "2724095263240"
      ]
     },
     "execution_count": 81,
     "metadata": {},
     "output_type": "execute_result"
    }
   ],
   "source": [
    "id(l) # the address of l in memory"
   ]
  },
  {
   "cell_type": "code",
   "execution_count": 82,
   "metadata": {},
   "outputs": [],
   "source": [
    "l+=[3,4]"
   ]
  },
  {
   "cell_type": "code",
   "execution_count": 84,
   "metadata": {},
   "outputs": [
    {
     "data": {
      "text/plain": [
       "(2724095263240, [1, 2, 3, 4])"
      ]
     },
     "execution_count": 84,
     "metadata": {},
     "output_type": "execute_result"
    }
   ],
   "source": [
    "id(l) , l # the same id address in memory with mutable l ,,, but not gurantee mutation "
   ]
  },
  {
   "cell_type": "code",
   "execution_count": 86,
   "metadata": {},
   "outputs": [
    {
     "name": "stdout",
     "output_type": "stream",
     "text": [
      "2724091145416\n",
      "2724083281176 (1, 2, 3, 4)\n"
     ]
    }
   ],
   "source": [
    "t =(1,2)\n",
    "print (id(t))\n",
    "t+=(3,4)\n",
    "print (id(t) , t) # different address memory"
   ]
  },
  {
   "cell_type": "code",
   "execution_count": 87,
   "metadata": {},
   "outputs": [],
   "source": [
    "### in-place operators , can be done by __iadd__"
   ]
  },
  {
   "cell_type": "code",
   "execution_count": 88,
   "metadata": {},
   "outputs": [],
   "source": [
    "class vectorDimensionMismatch(TypeError):\n",
    "    pass\n",
    "class vector:\n",
    "    def __init__(self, *components):\n",
    "        if len(components)<1:\n",
    "            raise ValueError ('canot create empty vector')\n",
    "        \n",
    "        for component in components:\n",
    "            if not isinstance(component , Real):\n",
    "                raise ValueError(f'vector components must be all real numbers ,{component} is invalid')\n",
    "        self._components = tuple (components) # to ensure that the data is tuple\n",
    "    \n",
    "    def __len__(self):\n",
    "        return len(self._components)\n",
    "    \n",
    "    @property\n",
    "    def components(self):\n",
    "        return self._components\n",
    "    \n",
    "    def __repr__(self):\n",
    "        return f'vector{self.components}' # here we are accessing the property\n",
    "   \n",
    "    def validate_type_length(self, v):\n",
    "        return isinstance(v,vector) and len(self) == len(v)\n",
    "    \n",
    "    def __add__(self, other):# other must be vector type and same len (self)\n",
    "        if not self.validate_type_length(other):\n",
    "            #raise vectorDimensionMismatch('vectors must be in same dimension')\n",
    "            return NotImplemented # not valid\n",
    "        components = (x+y for x,y in zip(self.components , other.components))\n",
    "        return vector(*components)\n",
    "    \n",
    "    def __sub__(self, other):# other must be vector type and same len (self)\n",
    "        if not self.validate_type_length(other):\n",
    "            #raise vectorDimensionMismatch('vectors must be in same dimension')\n",
    "            return NotImplemented # not valid\n",
    "        components = (x-y for x,y in zip(self.components , other.components))\n",
    "        return vector(*components)\n",
    "    \n",
    "    def __mul__(self, other):\n",
    "        print ('__mul__ called ...')\n",
    "        if isinstance(other, Real):\n",
    "            #scalar product\n",
    "            components=(other*component for component in self.components)\n",
    "            return vector(*components)\n",
    "        if self.validate_type_length(other):\n",
    "            #dot product\n",
    "            components = (x*y for x,y in zip(self.components , other.components))\n",
    "            return sum(components)\n",
    "        return NotImplemented\n",
    "    \n",
    "    def __rmul__(self, other):# we need only to apply the above function with the right operands\n",
    "        print ('__rmul__ called ..')\n",
    "        return self*other\n",
    "    def __iadd__(self, other):\n",
    "        print ('__iadd__ called ..')\n",
    "        return self+other"
   ]
  },
  {
   "cell_type": "code",
   "execution_count": 90,
   "metadata": {},
   "outputs": [
    {
     "name": "stdout",
     "output_type": "stream",
     "text": [
      "2724095524744\n",
      "__iadd__ called ..\n",
      "2724095472200\n"
     ]
    },
    {
     "data": {
      "text/plain": [
       "vector(11, 11)"
      ]
     },
     "execution_count": 90,
     "metadata": {},
     "output_type": "execute_result"
    }
   ],
   "source": [
    "v1 = vector (1,1)\n",
    "v2 = vector(10,10)\n",
    "print (id(v1))\n",
    "v1+=v2\n",
    "print (id(v1))\n",
    "v1 # we see here that there are different locations .. because __iadd__ here is callled __add__ function"
   ]
  },
  {
   "cell_type": "code",
   "execution_count": 22,
   "metadata": {},
   "outputs": [],
   "source": [
    "from numbers import Real\n",
    "class vectorDimensionMismatch(TypeError):\n",
    "    pass\n",
    "class vector:\n",
    "    def __init__(self, *components):\n",
    "        if len(components)<1:\n",
    "            raise ValueError ('canot create empty vector')\n",
    "        \n",
    "        for component in components:\n",
    "            if not isinstance(component , Real):\n",
    "                raise ValueError(f'vector components must be all real numbers ,{component} is invalid')\n",
    "        self._components = tuple (components) # to ensure that the data is tuple\n",
    "    \n",
    "    def __len__(self):\n",
    "        return len(self._components)\n",
    "    \n",
    "    @property\n",
    "    def components(self):\n",
    "        return self._components\n",
    "    \n",
    "    def __repr__(self):\n",
    "        return f'vector{self.components}' # here we are accessing the property\n",
    "   \n",
    "    def validate_type_length(self, v):\n",
    "        return isinstance(v,vector) and len(self) == len(v)\n",
    "    \n",
    "    def __add__(self, other):# other must be vector type and same len (self)\n",
    "        if not self.validate_type_length(other):\n",
    "            #raise vectorDimensionMismatch('vectors must be in same dimension')\n",
    "            return NotImplemented # not valid\n",
    "        components = (x+y for x,y in zip(self.components , other.components))\n",
    "        return vector(*components)\n",
    "    \n",
    "    def __sub__(self, other):# other must be vector type and same len (self)\n",
    "        if not self.validate_type_length(other):\n",
    "            #raise vectorDimensionMismatch('vectors must be in same dimension')\n",
    "            return NotImplemented # not valid\n",
    "        components = (x-y for x,y in zip(self.components , other.components))\n",
    "        return vector(*components)\n",
    "    \n",
    "    def __mul__(self, other):\n",
    "        print ('__mul__ called ...')\n",
    "        if isinstance(other, Real):\n",
    "            #scalar product\n",
    "            components=(other*component for component in self.components)\n",
    "            return vector(*components)\n",
    "        if self.validate_type_length(other):\n",
    "            #dot product\n",
    "            components = (x*y for x,y in zip(self.components , other.components))\n",
    "            return sum(components)\n",
    "        return NotImplemented\n",
    "    \n",
    "    def __rmul__(self, other):# we need only to apply the above function with the right operands\n",
    "        print ('__rmul__ called ..')\n",
    "        return self*other\n",
    "    def __iadd__(self, other):\n",
    "        print ('__iadd__ called ..')\n",
    "        if self.validate_type_length(other):\n",
    "            components = (x+y for x,y in zip (self.components, other.components))\n",
    "            self._components = tuple (components)\n",
    "            return self\n",
    "        return NotImplemented"
   ]
  },
  {
   "cell_type": "code",
   "execution_count": 23,
   "metadata": {},
   "outputs": [
    {
     "name": "stdout",
     "output_type": "stream",
     "text": [
      "2448138753224\n",
      "__iadd__ called ..\n",
      "2448138753224 vector(11, 11)\n"
     ]
    }
   ],
   "source": [
    "v1 = vector (1,1)\n",
    "v2 = vector(10,10)\n",
    "print (id(v1))\n",
    "v1+=v2\n",
    "print (id(v1), v1) # we see that we have the same address"
   ]
  },
  {
   "cell_type": "code",
   "execution_count": 48,
   "metadata": {},
   "outputs": [],
   "source": [
    "# let's implement unary neg __neg__"
   ]
  },
  {
   "cell_type": "code",
   "execution_count": 70,
   "metadata": {},
   "outputs": [],
   "source": [
    "from numbers import Real\n",
    "class vectorDimensionMismatch(TypeError):\n",
    "    pass\n",
    "class vector:\n",
    "    def __init__(self, *components):\n",
    "        if len(components)<1:\n",
    "            raise ValueError ('canot create empty vector')\n",
    "        \n",
    "        for component in components:\n",
    "            if not isinstance(component , Real):\n",
    "                raise ValueError(f'vector components must be all real numbers ,{component} is invalid')\n",
    "        self._components = tuple (components) # to ensure that the data is tuple\n",
    "    \n",
    "    def __len__(self):\n",
    "        return len(self._components)\n",
    "    \n",
    "    @property\n",
    "    def components(self):\n",
    "        return self._components\n",
    "    \n",
    "    def __repr__(self):\n",
    "        return f'vector{self.components}' # here we are accessing the property\n",
    "   \n",
    "    def validate_type_length(self, v):\n",
    "        return isinstance(v,vector) and len(self) == len(v)\n",
    "    \n",
    "    def __add__(self, other):# other must be vector type and same len (self)\n",
    "        if not self.validate_type_length(other):\n",
    "            #raise vectorDimensionMismatch('vectors must be in same dimension')\n",
    "            return NotImplemented # not valid\n",
    "        components = (x+y for x,y in zip(self.components , other.components))\n",
    "        return vector(*components)\n",
    "    \n",
    "    def __sub__(self, other):# other must be vector type and same len (self)\n",
    "        if not self.validate_type_length(other):\n",
    "            #raise vectorDimensionMismatch('vectors must be in same dimension')\n",
    "            return NotImplemented # not valid\n",
    "        components = (x-y for x,y in zip(self.components , other.components))\n",
    "        return vector(*components)\n",
    "    \n",
    "    def __mul__(self, other):\n",
    "        print ('__mul__ called ...')\n",
    "        if isinstance(other, Real):\n",
    "            #scalar product\n",
    "            components=(other*component for component in self.components)\n",
    "            return vector(*components)\n",
    "        if self.validate_type_length(other):\n",
    "            #dot product\n",
    "            components = (x*y for x,y in zip(self.components , other.components))\n",
    "            return sum(components)\n",
    "        return NotImplemented\n",
    "    \n",
    "    def __rmul__(self, other):# we need only to apply the above function with the right operands\n",
    "        print ('__rmul__ called ..')\n",
    "        return self*other\n",
    "    def __iadd__(self, other):\n",
    "        print ('__iadd__ called ..')\n",
    "        if self.validate_type_length(other):\n",
    "            components = (x+y for x,y in zip (self.components, other.components))\n",
    "            self._components = tuple (components)\n",
    "            return self\n",
    "        return NotImplemented\n",
    "    \n",
    "    def __neg__(self):\n",
    "        print ('__neg__ called ')\n",
    "        components = (-x for x in self.components)\n",
    "        return vector (*components)\n",
    "        #return NotImplemented\n",
    "            "
   ]
  },
  {
   "cell_type": "code",
   "execution_count": 71,
   "metadata": {},
   "outputs": [
    {
     "name": "stdout",
     "output_type": "stream",
     "text": [
      "__neg__ called \n"
     ]
    }
   ],
   "source": [
    "v1 = vector(1,2)\n",
    "v2 = -v1"
   ]
  },
  {
   "cell_type": "code",
   "execution_count": 72,
   "metadata": {},
   "outputs": [
    {
     "data": {
      "text/plain": [
       "vector(-1, -2)"
      ]
     },
     "execution_count": 72,
     "metadata": {},
     "output_type": "execute_result"
    }
   ],
   "source": [
    "v2"
   ]
  },
  {
   "cell_type": "code",
   "execution_count": 74,
   "metadata": {},
   "outputs": [
    {
     "ename": "TypeError",
     "evalue": "bad operand type for abs(): 'vector'",
     "output_type": "error",
     "traceback": [
      "\u001b[1;31m---------------------------------------------------------------------------\u001b[0m",
      "\u001b[1;31mTypeError\u001b[0m                                 Traceback (most recent call last)",
      "\u001b[1;32m<ipython-input-74-a07f7e08da31>\u001b[0m in \u001b[0;36m<module>\u001b[1;34m\u001b[0m\n\u001b[1;32m----> 1\u001b[1;33m \u001b[0mabs\u001b[0m\u001b[1;33m(\u001b[0m\u001b[0mv1\u001b[0m\u001b[1;33m)\u001b[0m\u001b[1;33m\u001b[0m\u001b[1;33m\u001b[0m\u001b[0m\n\u001b[0m\u001b[0;32m      2\u001b[0m \u001b[1;31m# let's implement __abs__ function\u001b[0m\u001b[1;33m\u001b[0m\u001b[1;33m\u001b[0m\u001b[1;33m\u001b[0m\u001b[0m\n",
      "\u001b[1;31mTypeError\u001b[0m: bad operand type for abs(): 'vector'"
     ]
    }
   ],
   "source": [
    "abs(v1)\n",
    "# let's implement __abs__ function"
   ]
  },
  {
   "cell_type": "code",
   "execution_count": 99,
   "metadata": {},
   "outputs": [],
   "source": [
    "from numbers import Real\n",
    "from math import sqrt\n",
    "class vectorDimensionMismatch(TypeError):\n",
    "    pass\n",
    "class vector:\n",
    "    def __init__(self, *components):\n",
    "        if len(components)<1:\n",
    "            raise ValueError ('canot create empty vector')\n",
    "        \n",
    "        for component in components:\n",
    "            if not isinstance(component , Real):\n",
    "                raise ValueError(f'vector components must be all real numbers ,{component} is invalid')\n",
    "        self._components = tuple (components) # to ensure that the data is tuple\n",
    "    \n",
    "    def __len__(self):\n",
    "        return len(self._components)\n",
    "    \n",
    "    @property\n",
    "    def components(self):\n",
    "        return self._components\n",
    "    \n",
    "    def __repr__(self):\n",
    "        return f'vector{self.components}' # here we are accessing the property\n",
    "   \n",
    "    def validate_type_length(self, v):\n",
    "        return isinstance(v,vector) and len(self) == len(v)\n",
    "    \n",
    "    def __add__(self, other):# other must be vector type and same len (self)\n",
    "        if not self.validate_type_length(other):\n",
    "            #raise vectorDimensionMismatch('vectors must be in same dimension')\n",
    "            return NotImplemented # not valid\n",
    "        components = (x+y for x,y in zip(self.components , other.components))\n",
    "        return vector(*components)\n",
    "    \n",
    "    def __sub__(self, other):# other must be vector type and same len (self)\n",
    "        if not self.validate_type_length(other):\n",
    "            #raise vectorDimensionMismatch('vectors must be in same dimension')\n",
    "            return NotImplemented # not valid\n",
    "        components = (x-y for x,y in zip(self.components , other.components))\n",
    "        return vector(*components)\n",
    "    \n",
    "    def __mul__(self, other):\n",
    "        print ('__mul__ called ...')\n",
    "        if isinstance(other, Real):\n",
    "            #scalar product\n",
    "            components=(other*component for component in self.components)\n",
    "            return vector(*components)\n",
    "        if self.validate_type_length(other):\n",
    "            #dot product\n",
    "            components = (x*y for x,y in zip(self.components , other.components))\n",
    "            return sum(components)\n",
    "        return NotImplemented\n",
    "    \n",
    "    def __rmul__(self, other):# we need only to apply the above function with the right operands\n",
    "        print ('__rmul__ called ..')\n",
    "        return self*other\n",
    "    def __iadd__(self, other):\n",
    "        print ('__iadd__ called ..')\n",
    "        if self.validate_type_length(other):\n",
    "            components = (x+y for x,y in zip (self.components, other.components))\n",
    "            self._components = tuple (components)\n",
    "            return self\n",
    "        return NotImplemented\n",
    "    \n",
    "    def __neg__(self):\n",
    "        print ('__neg__ called ')\n",
    "        components = (-x for x in self.components)\n",
    "        return vector (*components)\n",
    "        #return NotImplemented\n",
    "\n",
    "    def __abs__(self):\n",
    "        print ('__abs__ called')\n",
    "        return sqrt( sum (x**2 for x in self.components) )\n",
    "         "
   ]
  },
  {
   "cell_type": "code",
   "execution_count": 100,
   "metadata": {},
   "outputs": [],
   "source": [
    "v1 =  vector (3,5,9)"
   ]
  },
  {
   "cell_type": "code",
   "execution_count": 101,
   "metadata": {},
   "outputs": [
    {
     "name": "stdout",
     "output_type": "stream",
     "text": [
      "__abs__ called\n"
     ]
    },
    {
     "data": {
      "text/plain": [
       "10.723805294763608"
      ]
     },
     "execution_count": 101,
     "metadata": {},
     "output_type": "execute_result"
    }
   ],
   "source": [
    "abs(v1)"
   ]
  },
  {
   "cell_type": "code",
   "execution_count": null,
   "metadata": {},
   "outputs": [],
   "source": []
  }
 ],
 "metadata": {
  "kernelspec": {
   "display_name": "Python 3",
   "language": "python",
   "name": "python3"
  },
  "language_info": {
   "codemirror_mode": {
    "name": "ipython",
    "version": 3
   },
   "file_extension": ".py",
   "mimetype": "text/x-python",
   "name": "python",
   "nbconvert_exporter": "python",
   "pygments_lexer": "ipython3",
   "version": "3.7.4"
  }
 },
 "nbformat": 4,
 "nbformat_minor": 2
}
